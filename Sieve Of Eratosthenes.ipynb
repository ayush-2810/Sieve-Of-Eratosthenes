{
 "cells": [
  {
   "cell_type": "code",
   "execution_count": null,
   "metadata": {},
   "outputs": [],
   "source": [
    "# Python program to print all primes smaller than or equal to n.\n",
    "  \n",
    "def SieveOfEratosthenes(n):   #Defining function for prime numbers.\n",
    "      \n",
    "    prime = [True for i in range(n+1)]   #Create a boolean array prime[0..n] and initialize it with True.\n",
    "    p = 2   \n",
    "    while (p * p <= n):   #Looping till all the multiples gets exhausted.\n",
    "          \n",
    "        # If prime[p] is not changed, then it is a prime.\n",
    "        if (prime[p] == True):   #Checking whether prime[p] is boolean or not.\n",
    "              \n",
    "            # Update all multiples of p.\n",
    "            for i in range(p * p, n+1, p):   #Updating all multiples of p(initialized with 2).\n",
    "                prime[i] = False   #Putting it equal to false as it is a multiple of p.\n",
    "        p += 1   #Changing value of p for updating tha array.\n",
    "      \n",
    "    for p in range(2, n):   #For prinitng all the prime numbers.\n",
    "        if prime[p]:   #Checking whether the number is prime or not.\n",
    "            print(p,)   #Printing the index of True value. \n",
    "    return ''   #Returning none value.\n",
    "\n",
    "n=int(input())   #Value upto which prime numbers has to be found.\n",
    "print(SieveOfEratosthenes(n))   #Calling function to print all the prime numbers."
   ]
  }
 ],
 "metadata": {
  "kernelspec": {
   "display_name": "Python 3",
   "language": "python",
   "name": "python3"
  },
  "language_info": {
   "codemirror_mode": {
    "name": "ipython",
    "version": 3
   },
   "file_extension": ".py",
   "mimetype": "text/x-python",
   "name": "python",
   "nbconvert_exporter": "python",
   "pygments_lexer": "ipython3",
   "version": "3.7.0"
  }
 },
 "nbformat": 4,
 "nbformat_minor": 2
}
