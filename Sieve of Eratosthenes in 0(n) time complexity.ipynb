{
 "cells": [
  {
   "cell_type": "code",
   "execution_count": 7,
   "metadata": {},
   "outputs": [
    {
     "name": "stdout",
     "output_type": "stream",
     "text": [
      "10\n",
      "2 3 5 7 "
     ]
    }
   ],
   "source": [
    "MAX_SIZE = 1000001   #Declaring the max size of an array.\n",
    "  \n",
    "\n",
    "isprime = [True] * MAX_SIZE    #Initializing a list as True for generating prime numbers.\n",
    "prime = []                     #For storing the prime numbers.\n",
    "SPF = [None] * (MAX_SIZE)      # SPF[] that store smallest prime.(for ex : spf of 8 is 2. So SPF[8]=2). \n",
    " \n",
    "\n",
    "def seive(N):   #Function for generating prime numbers in O(n) complexity.  \n",
    "  \n",
    "    isprime[0] = isprime[1] = False      # 0 and 1 are not prime.  \n",
    "  \n",
    "    for i in range(2, N):       # Fill rest of the entries  \n",
    "      \n",
    "        if isprime[i] == True:   # If isPrime[i] == True then i is  prime number.  \n",
    "          \n",
    "            prime.append(i)    #Put i into prime[]. \n",
    "  \n",
    "            SPF[i] = i   # A prime number is its own smallest prime factor. \n",
    "          \n",
    "        # Remove all multiples of i*prime[j]  \n",
    "        # which are not prime by making is \n",
    "        # Prime[i * prime[j]] = false and put \n",
    "        # smallest prime factor of i*Prime[j] \n",
    "        # as prime[j] [ for exp :let i = 5 , j = 0 , \n",
    "        # prime[j] = 2 [ i*prime[j] = 10 ]  \n",
    "        # so smallest prime factor of '10' is '2'  \n",
    "        # that is prime[j] ] this loop run only one  \n",
    "        # time for number which are not prime  \n",
    "        j = 0\n",
    "        while (j < len(prime) and\n",
    "               i * prime[j] < N and\n",
    "                   prime[j] <= SPF[i]): \n",
    "          \n",
    "            isprime[i * prime[j]] = False\n",
    "  \n",
    "            \n",
    "            SPF[i * prime[j]] = prime[j]   # Put smallest prime factor of i*prime[j]  \n",
    "              \n",
    "            j += 1\n",
    "\n",
    "N=int(input())   #Taking input from user.\n",
    "i = 0   #Initialising a variable.\n",
    "seive(N)   #Calling function.\n",
    "while i < len(prime) and prime[i] <= N:   #Printing the prime numbers. \n",
    "    print(prime[i], end = \" \")  \n",
    "    i += 1\n",
    "          "
   ]
  },
  {
   "cell_type": "code",
   "execution_count": null,
   "metadata": {},
   "outputs": [],
   "source": []
  }
 ],
 "metadata": {
  "kernelspec": {
   "display_name": "Python 3",
   "language": "python",
   "name": "python3"
  },
  "language_info": {
   "codemirror_mode": {
    "name": "ipython",
    "version": 3
   },
   "file_extension": ".py",
   "mimetype": "text/x-python",
   "name": "python",
   "nbconvert_exporter": "python",
   "pygments_lexer": "ipython3",
   "version": "3.7.0"
  }
 },
 "nbformat": 4,
 "nbformat_minor": 2
}
